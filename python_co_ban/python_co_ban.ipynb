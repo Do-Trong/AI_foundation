{
 "cells": [
  {
   "cell_type": "markdown",
   "metadata": {},
   "source": [
    "# Python Data Types"
   ]
  },
  {
   "cell_type": "markdown",
   "metadata": {},
   "source": [
    "## List"
   ]
  },
  {
   "cell_type": "markdown",
   "metadata": {},
   "source": [
    "Là tập hợp của các kiều dữ liệu ( số, string, char, bool,list, tuple,..) theo 1 thứ tự và có thể thay đổi được đặt trong dấu\"[]\" và cách nhau bởi dấu ','"
   ]
  },
  {
   "cell_type": "code",
   "execution_count": 2,
   "metadata": {},
   "outputs": [
    {
     "name": "stdout",
     "output_type": "stream",
     "text": [
      "[1, 3, 's', 'abc', [3, 3, 's', '3234']]\n"
     ]
    }
   ],
   "source": [
    "lst = [1,3,'s',\"abc\", [3,3,'s',\"3234\"]]\n",
    "print(lst)"
   ]
  },
  {
   "cell_type": "code",
   "execution_count": 3,
   "metadata": {},
   "outputs": [
    {
     "name": "stdout",
     "output_type": "stream",
     "text": [
      "lst[0]= 1\n",
      "lst[1]= 3\n",
      "lst[2]= s\n",
      "lst[3]= abc\n",
      "lst[4]= [3, 3, 's', '3234']\n"
     ]
    }
   ],
   "source": [
    "#phần tử thứ nhất bắt đâu với index 0 và kết thúc là (n -1)\n",
    "for i in range(len(lst)):\n",
    "    print(\"lst[\"+str(i)+\"]=\", lst[i])"
   ]
  },
  {
   "cell_type": "code",
   "execution_count": 10,
   "metadata": {},
   "outputs": [
    {
     "name": "stdout",
     "output_type": "stream",
     "text": [
      "['s', 'abc']\n"
     ]
    }
   ],
   "source": [
    "print(lst[2:4]) #tạo một list khác với các phần tử lấy trong lst: 2 -> 3"
   ]
  },
  {
   "cell_type": "code",
   "execution_count": 12,
   "metadata": {},
   "outputs": [
    {
     "name": "stdout",
     "output_type": "stream",
     "text": [
      "['s', 'abc', [3, 3, 's', '3234']]\n"
     ]
    }
   ],
   "source": [
    "print(lst[2:]) # từ phần tử có index= 2 đến hết list"
   ]
  },
  {
   "cell_type": "code",
   "execution_count": 13,
   "metadata": {},
   "outputs": [
    {
     "name": "stdout",
     "output_type": "stream",
     "text": [
      "[1, 3, 's', 'abc']\n"
     ]
    }
   ],
   "source": [
    "print(lst[:4]) # từ phần tử đầu tiên đến phần tử có index= 3"
   ]
  },
  {
   "cell_type": "code",
   "execution_count": null,
   "metadata": {},
   "outputs": [],
   "source": []
  }
 ],
 "metadata": {
  "kernelspec": {
   "display_name": "Python 3",
   "language": "python",
   "name": "python3"
  },
  "language_info": {
   "codemirror_mode": {
    "name": "ipython",
    "version": 3
   },
   "file_extension": ".py",
   "mimetype": "text/x-python",
   "name": "python",
   "nbconvert_exporter": "python",
   "pygments_lexer": "ipython3",
   "version": "3.7.0"
  }
 },
 "nbformat": 4,
 "nbformat_minor": 4
}
