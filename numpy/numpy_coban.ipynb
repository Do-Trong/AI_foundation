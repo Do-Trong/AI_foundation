{
 "cells": [
  {
   "cell_type": "markdown",
   "metadata": {},
   "source": [
    "# Khởi tạo mảng\n"
   ]
  },
  {
   "cell_type": "code",
   "execution_count": 43,
   "metadata": {},
   "outputs": [
    {
     "name": "stdout",
     "output_type": "stream",
     "text": [
      "[1 2 3 4 5]\n",
      "(5,)\n",
      "dim =  1\n"
     ]
    }
   ],
   "source": [
    "import numpy as np\n",
    "#tạo một mảng một chiều\n",
    "arr_1 = np.array([1, 2, 3, 4, 5])\n",
    "print(arr_1)\n",
    "print(arr_1.shape) #kich thuoc cua mang\n",
    "print(\"dim = \",arr_1.ndim) #số chiều"
   ]
  },
  {
   "cell_type": "code",
   "execution_count": 34,
   "metadata": {},
   "outputs": [
    {
     "name": "stdout",
     "output_type": "stream",
     "text": [
      "[[1 2 3 4 5]\n",
      " [3 4 3 4 3]]\n",
      "(2, 5)\n",
      "dim =  2\n"
     ]
    }
   ],
   "source": [
    "# tạo một mảng 2 chiều\n",
    "arr_2 = np.array([[1, 2, 3, 4, 5],[3, 4, 3, 4, 3]])\n",
    "print(arr_2)\n",
    "print(arr_2.shape) #kich thuoc cua mang\n",
    "print(\"dim = \",arr_2.ndim) #số chiều"
   ]
  },
  {
   "cell_type": "code",
   "execution_count": 35,
   "metadata": {},
   "outputs": [
    {
     "name": "stdout",
     "output_type": "stream",
     "text": [
      "[[[1 4]\n",
      "  [2 6]\n",
      "  [3 5]]\n",
      "\n",
      " [[1 4]\n",
      "  [2 6]\n",
      "  [3 5]]]\n",
      "(2, 3, 2)\n",
      "dim =  3\n"
     ]
    }
   ],
   "source": [
    "# tạo một mảng 3 chiều\n",
    "arr_3 = np.array([[[1,4], [2,6], [3,5]],[[1,4], [2,6], [3,5]]])\n",
    "print(arr_3)\n",
    "print(arr_3.shape) #kich thuoc cua mang\n",
    "print(\"dim = \",arr_3.ndim) #số chiều"
   ]
  },
  {
   "cell_type": "code",
   "execution_count": 42,
   "metadata": {},
   "outputs": [
    {
     "name": "stdout",
     "output_type": "stream",
     "text": [
      "[[[[1 2 3 4]]]]\n",
      "number of dimensions : 4\n"
     ]
    }
   ],
   "source": [
    "#tạo một mảng 4D\n",
    "arr = np.array([1, 2, 3, 4], ndmin=4)\n",
    "print(arr)\n",
    "print('number of dimensions :', arr.ndim)"
   ]
  },
  {
   "cell_type": "markdown",
   "metadata": {},
   "source": [
    "# index"
   ]
  },
  {
   "cell_type": "markdown",
   "metadata": {},
   "source": [
    "giả sử mảng có n phần tử\n",
    "\n",
    "khi đó index của mảng sẽ bắt đầu từ 0 -> (n-1)"
   ]
  },
  {
   "cell_type": "code",
   "execution_count": 44,
   "metadata": {},
   "outputs": [
    {
     "name": "stdout",
     "output_type": "stream",
     "text": [
      "arr[0]= 1\n",
      "arr[1]= 2\n",
      "arr[2]= 3\n",
      "arr[3]= 4\n",
      "arr[4]= 5\n"
     ]
    }
   ],
   "source": [
    "arr_1 = np.array([1, 2, 3, 4, 5])\n",
    "for i in range(len(arr_1)):\n",
    "    print(\"arr[\"+str(i)+\"]=\", arr_1[i])"
   ]
  },
  {
   "cell_type": "code",
   "execution_count": 27,
   "metadata": {},
   "outputs": [
    {
     "name": "stdout",
     "output_type": "stream",
     "text": [
      "arr_2[0][0]= 1\n",
      "arr_2[0][1]= 2\n",
      "arr_2[0][2]= 3\n",
      "arr_2[0][3]= 4\n",
      "arr_2[0][4]= 5\n",
      "arr_2[1][0]= 3\n",
      "arr_2[1][1]= 4\n",
      "arr_2[1][2]= 3\n",
      "arr_2[1][3]= 4\n",
      "arr_2[1][4]= 3\n"
     ]
    }
   ],
   "source": [
    "arr_2 = np.array([[1, 2, 3, 4, 5],[3, 4, 3, 4, 3]])\n",
    "for i in range(len(arr_2)):\n",
    "    for j in range(len(arr_2[i])):\n",
    "        print(\"arr_2[\"+str(i)+\"][\"+str(j)+\"]=\", arr_2[i][j])"
   ]
  },
  {
   "cell_type": "code",
   "execution_count": 28,
   "metadata": {},
   "outputs": [
    {
     "name": "stdout",
     "output_type": "stream",
     "text": [
      "arr_3[0][0][0]= 1\n",
      "arr_3[0][0][1]= 4\n",
      "arr_3[0][1][0]= 2\n",
      "arr_3[0][1][1]= 6\n",
      "arr_3[0][2][0]= 3\n",
      "arr_3[0][2][1]= 5\n",
      "arr_3[1][0][0]= 1\n",
      "arr_3[1][0][1]= 4\n",
      "arr_3[1][1][0]= 2\n",
      "arr_3[1][1][1]= 6\n",
      "arr_3[1][2][0]= 3\n",
      "arr_3[1][2][1]= 5\n"
     ]
    }
   ],
   "source": [
    "arr_3 = np.array([[[1,4], [2,6], [3,5]],[[1,4], [2,6], [3,5]]])\n",
    "for i in range(len(arr_3)):\n",
    "    for j in range(len(arr_3[i])):\n",
    "        for k in range(len(arr_3[i][j])):\n",
    "            print(\"arr_3[\"+str(i)+\"][\"+str(j)+\"][\"+str(k)+\"]=\", arr_3[i][j][k])"
   ]
  },
  {
   "cell_type": "markdown",
   "metadata": {},
   "source": [
    "# Slicing"
   ]
  },
  {
   "cell_type": "code",
   "execution_count": 45,
   "metadata": {},
   "outputs": [
    {
     "name": "stdout",
     "output_type": "stream",
     "text": [
      "[2 3 4 5]\n"
     ]
    }
   ],
   "source": [
    "#lấy các phần tử từ có index từ 1- 4\n",
    "arr = np.array([1, 2, 3, 4, 5, 6, 7])\n",
    "print(arr[1:5])"
   ]
  },
  {
   "cell_type": "code",
   "execution_count": 48,
   "metadata": {},
   "outputs": [
    {
     "name": "stdout",
     "output_type": "stream",
     "text": [
      "[3 4 5 6 7]\n",
      "3\n",
      "[1 2 3 4 5]\n",
      "5\n"
     ]
    }
   ],
   "source": [
    "#lấy các phần tử từ có index từ 2 đến hết mảng\n",
    "print(arr[2:])\n",
    "print(arr[2])\n",
    "#lấy các phần tử từ đầu mảng đến phần tử có index là 4\n",
    "print(arr[:5])\n",
    "print(arr[4])"
   ]
  },
  {
   "cell_type": "markdown",
   "metadata": {},
   "source": [
    "#### Negative Slicing"
   ]
  },
  {
   "cell_type": "code",
   "execution_count": 51,
   "metadata": {},
   "outputs": [
    {
     "name": "stdout",
     "output_type": "stream",
     "text": [
      "[1 2 3 4 5 6 7]\n",
      "arr[-7]= 1\n",
      "arr[-6]= 2\n",
      "arr[-5]= 3\n",
      "arr[-4]= 4\n",
      "arr[-3]= 5\n",
      "arr[-2]= 6\n",
      "arr[-1]= 7\n"
     ]
    }
   ],
   "source": [
    "# Nagetive index : -n -> -1\n",
    "arr = np.array([1, 2, 3, 4, 5, 6, 7])\n",
    "print(arr)\n",
    "for i in range(-len(arr), 0):\n",
    "    print(\"arr[\"+str(i)+\"]=\", arr[i])"
   ]
  },
  {
   "cell_type": "code",
   "execution_count": 55,
   "metadata": {},
   "outputs": [
    {
     "name": "stdout",
     "output_type": "stream",
     "text": [
      "[3 4 5 6]\n",
      "[3 4 5 6]\n"
     ]
    }
   ],
   "source": [
    "#Negative Slicing\n",
    "# slicning từ index 2 -> 5 ( -5 -> -2)\n",
    "print(arr[2:6])\n",
    "print(arr[-5:-1])"
   ]
  },
  {
   "cell_type": "markdown",
   "metadata": {},
   "source": [
    "##### STEP"
   ]
  },
  {
   "cell_type": "code",
   "execution_count": 58,
   "metadata": {},
   "outputs": [
    {
     "name": "stdout",
     "output_type": "stream",
     "text": [
      "[2 4 6]\n"
     ]
    }
   ],
   "source": [
    "arr = np.array([1, 2, 3, 4, 5, 6, 7])\n",
    "print(arr[1:6:2])"
   ]
  },
  {
   "cell_type": "code",
   "execution_count": 60,
   "metadata": {},
   "outputs": [
    {
     "name": "stdout",
     "output_type": "stream",
     "text": [
      "[1 3 5 7]\n"
     ]
    }
   ],
   "source": [
    "arr = np.array([1, 2, 3, 4, 5, 6, 7])\n",
    "print(arr[::2]) # step = 2"
   ]
  },
  {
   "cell_type": "code",
   "execution_count": 62,
   "metadata": {},
   "outputs": [
    {
     "name": "stdout",
     "output_type": "stream",
     "text": [
      "[7 8 9]\n",
      "[7 8 9]\n"
     ]
    }
   ],
   "source": [
    "arr = np.array([[1, 2, 3, 4, 5], [6, 7, 8, 9, 10]])\n",
    "#lấy phần tử thứ 2 của arr, từ mảng con đó lấy các phần tử từ có index 1- 3\n",
    "arr_1 = arr[1]\n",
    "print(arr_1[1:4])\n",
    "print(arr[1, 1:4])"
   ]
  },
  {
   "cell_type": "code",
   "execution_count": 71,
   "metadata": {},
   "outputs": [
    {
     "name": "stdout",
     "output_type": "stream",
     "text": [
      "[[ 1  2  3  4  5]\n",
      " [ 6  7  8  9 10]]\n",
      "[2 7]\n",
      "[[ 1  2  3  4  5]\n",
      " [ 6  7  8  9 10]]\n",
      "[3 8]\n"
     ]
    }
   ],
   "source": [
    "arr = np.array([[1, 2, 3, 4, 5], [6, 7, 8, 9, 10]])\n",
    "# lấy tất cả các phần tử thứ 2 của các mảng con\n",
    "print(arr)\n",
    "print(arr[:,1])\n",
    "# lấy tất cả các phần tử thứ 3 của các mảng con\n",
    "print(arr)\n",
    "print(arr[:,2])"
   ]
  },
  {
   "cell_type": "code",
   "execution_count": 82,
   "metadata": {},
   "outputs": [
    {
     "name": "stdout",
     "output_type": "stream",
     "text": [
      "[[ 1  2  3  4  5]\n",
      " [ 6  7  8  9 10]]\n",
      "[[2 3 4]\n",
      " [7 8 9]]\n",
      "tuong duong\n",
      "[[2 3 4]\n",
      " [7 8 9]]\n",
      "____________________________________________\n",
      "[[ 1  2  3  4  5]\n",
      " [ 6  7  8  9 10]]\n",
      "[[2 3 4]]\n",
      "tuong duong\n",
      "[[2 3 4]]\n"
     ]
    }
   ],
   "source": [
    "arr = np.array([[1, 2, 3, 4, 5], [6, 7, 8, 9, 10]])\n",
    "print(arr)\n",
    "print(arr[0:2, 1:4])#lấy index từ 1->3 của các mảng con arr[1], arr[2]\n",
    "print(\"tuong duong\")\n",
    "print(np.array([arr[0][1:4], arr[1][1:4]]))\n",
    "print(\"____________________________________________\")\n",
    "print(arr)\n",
    "print(arr[0:1, 1:4])#lấy index từ 1->3 của các mảng con arr[1]\n",
    "print(\"tuong duong\")\n",
    "print(np.array([arr[0][1:4]]))"
   ]
  },
  {
   "cell_type": "markdown",
   "metadata": {},
   "source": [
    "# Type"
   ]
  },
  {
   "cell_type": "code",
   "execution_count": 83,
   "metadata": {},
   "outputs": [
    {
     "name": "stdout",
     "output_type": "stream",
     "text": [
      "int32\n"
     ]
    }
   ],
   "source": [
    "arr = np.array([1, 2, 3, 4])\n",
    "print(arr.dtype)"
   ]
  },
  {
   "cell_type": "code",
   "execution_count": 84,
   "metadata": {},
   "outputs": [
    {
     "name": "stdout",
     "output_type": "stream",
     "text": [
      "<U1\n",
      "<U1\n"
     ]
    }
   ],
   "source": [
    "arr = np.array(['a', 'a', 'a'])\n",
    "print(arr.dtype)\n",
    "arr = np.array(['1', '2', '3'])\n",
    "print(arr.dtype)"
   ]
  },
  {
   "cell_type": "code",
   "execution_count": 91,
   "metadata": {},
   "outputs": [
    {
     "name": "stdout",
     "output_type": "stream",
     "text": [
      "[1 2 3 4]\n",
      "int32\n",
      "[b'1' b'2' b'3' b'4']\n",
      "|S1\n",
      "[1. 2. 3. 4.]\n",
      "float32\n",
      "[1 2 3 4]\n",
      "int64\n"
     ]
    }
   ],
   "source": [
    "#integer\n",
    "arr = np.array([1, 2, 3, 4], dtype='i')\n",
    "print(arr)\n",
    "print(arr.dtype)\n",
    "#String\n",
    "arr = np.array([1, 2, 3, 4], dtype='S')\n",
    "print(arr)\n",
    "print(arr.dtype)\n",
    "#float\n",
    "arr = np.array([1, 2, 3, 4], dtype='f')\n",
    "print(arr)\n",
    "print(arr.dtype)\n",
    "#int64\n",
    "arr = np.array([1, 2, 3, 4], dtype='int64')\n",
    "print(arr)\n",
    "print(arr.dtype)"
   ]
  },
  {
   "cell_type": "markdown",
   "metadata": {},
   "source": [
    "#### Eror"
   ]
  },
  {
   "cell_type": "code",
   "execution_count": 92,
   "metadata": {},
   "outputs": [
    {
     "ename": "ValueError",
     "evalue": "invalid literal for int() with base 10: 'a'",
     "output_type": "error",
     "traceback": [
      "\u001b[1;31m---------------------------------------------------------------------------\u001b[0m",
      "\u001b[1;31mValueError\u001b[0m                                Traceback (most recent call last)",
      "\u001b[1;32m<ipython-input-92-4101754d9810>\u001b[0m in \u001b[0;36m<module>\u001b[1;34m\u001b[0m\n\u001b[1;32m----> 1\u001b[1;33m \u001b[0marr\u001b[0m \u001b[1;33m=\u001b[0m \u001b[0mnp\u001b[0m\u001b[1;33m.\u001b[0m\u001b[0marray\u001b[0m\u001b[1;33m(\u001b[0m\u001b[1;33m[\u001b[0m\u001b[1;34m'a'\u001b[0m\u001b[1;33m,\u001b[0m \u001b[1;34m'2'\u001b[0m\u001b[1;33m,\u001b[0m \u001b[1;34m'3'\u001b[0m\u001b[1;33m]\u001b[0m\u001b[1;33m,\u001b[0m \u001b[0mdtype\u001b[0m\u001b[1;33m=\u001b[0m\u001b[1;34m'i'\u001b[0m\u001b[1;33m)\u001b[0m\u001b[1;33m\u001b[0m\u001b[0m\n\u001b[0m",
      "\u001b[1;31mValueError\u001b[0m: invalid literal for int() with base 10: 'a'"
     ]
    }
   ],
   "source": [
    "arr = np.array(['a', '2', '3'], dtype='i')"
   ]
  },
  {
   "cell_type": "markdown",
   "metadata": {},
   "source": [
    "#### Convert"
   ]
  },
  {
   "cell_type": "code",
   "execution_count": 96,
   "metadata": {},
   "outputs": [
    {
     "name": "stdout",
     "output_type": "stream",
     "text": [
      "[1 2 3]\n",
      "int32\n",
      "_________________________________\n",
      "[1 2 3]\n",
      "int32\n"
     ]
    }
   ],
   "source": [
    "arr = np.array([1.1, 2.1, 3.1])\n",
    "newarr = arr.astype('i')\n",
    "print(newarr)\n",
    "print(newarr.dtype)\n",
    "print(\"_________________________________\")\n",
    "arr = np.array([1.1, 2.1, 3.1],'i')\n",
    "print(arr)\n",
    "print(arr.dtype)"
   ]
  },
  {
   "cell_type": "code",
   "execution_count": 98,
   "metadata": {},
   "outputs": [
    {
     "name": "stdout",
     "output_type": "stream",
     "text": [
      "[ True  True  True]\n",
      "bool\n",
      "_________________________________\n",
      "[ True  True  True]\n",
      "bool\n"
     ]
    }
   ],
   "source": [
    "arr = np.array([1.1, 2.1, 3.1])\n",
    "newarr = arr.astype('bool')\n",
    "print(newarr)\n",
    "print(newarr.dtype)\n",
    "print(\"_________________________________\")\n",
    "arr = np.array([1.1, 2.1, 3.1],'bool')\n",
    "print(arr)\n",
    "print(arr.dtype)"
   ]
  },
  {
   "cell_type": "markdown",
   "metadata": {},
   "source": [
    "# Reshape "
   ]
  },
  {
   "cell_type": "markdown",
   "metadata": {},
   "source": [
    "chuyển mảng 1D về nD với điều kiện số phần tử nD phải bằng mảng cũ nói cách khác số phần tử mảng 1D cần phải nấp đầy nD\n",
    "ví dụ chuyển 1D có 10 phần tử thành n x m x k khi n*m*k = len(1D)"
   ]
  },
  {
   "cell_type": "code",
   "execution_count": null,
   "metadata": {},
   "outputs": [],
   "source": [
    "\n",
    "arr = np.array([1, 2, 3, 4, 5, 6, 7, 8, 9, 10, 11, 12])\n",
    "\n",
    "newarr = arr.reshape(4, 3) #3*4 = 12\n",
    "\n",
    "print(newarr)"
   ]
  },
  {
   "cell_type": "markdown",
   "metadata": {},
   "source": [
    "#### Eror"
   ]
  },
  {
   "cell_type": "code",
   "execution_count": 102,
   "metadata": {},
   "outputs": [
    {
     "ename": "ValueError",
     "evalue": "cannot reshape array of size 13 into shape (4,3)",
     "output_type": "error",
     "traceback": [
      "\u001b[1;31m---------------------------------------------------------------------------\u001b[0m",
      "\u001b[1;31mValueError\u001b[0m                                Traceback (most recent call last)",
      "\u001b[1;32m<ipython-input-102-819cc96a05b3>\u001b[0m in \u001b[0;36m<module>\u001b[1;34m\u001b[0m\n\u001b[0;32m      1\u001b[0m \u001b[0marr\u001b[0m \u001b[1;33m=\u001b[0m \u001b[0mnp\u001b[0m\u001b[1;33m.\u001b[0m\u001b[0marray\u001b[0m\u001b[1;33m(\u001b[0m\u001b[1;33m[\u001b[0m\u001b[1;36m1\u001b[0m\u001b[1;33m,\u001b[0m \u001b[1;36m2\u001b[0m\u001b[1;33m,\u001b[0m \u001b[1;36m3\u001b[0m\u001b[1;33m,\u001b[0m \u001b[1;36m4\u001b[0m\u001b[1;33m,\u001b[0m \u001b[1;36m5\u001b[0m\u001b[1;33m,\u001b[0m \u001b[1;36m6\u001b[0m\u001b[1;33m,\u001b[0m \u001b[1;36m7\u001b[0m\u001b[1;33m,\u001b[0m \u001b[1;36m8\u001b[0m\u001b[1;33m,\u001b[0m \u001b[1;36m9\u001b[0m\u001b[1;33m,\u001b[0m \u001b[1;36m10\u001b[0m\u001b[1;33m,\u001b[0m \u001b[1;36m11\u001b[0m\u001b[1;33m,\u001b[0m \u001b[1;36m12\u001b[0m\u001b[1;33m,\u001b[0m \u001b[1;36m13\u001b[0m\u001b[1;33m]\u001b[0m\u001b[1;33m)\u001b[0m\u001b[1;33m\u001b[0m\u001b[0m\n\u001b[0;32m      2\u001b[0m \u001b[1;33m\u001b[0m\u001b[0m\n\u001b[1;32m----> 3\u001b[1;33m \u001b[0mnewarr\u001b[0m \u001b[1;33m=\u001b[0m \u001b[0marr\u001b[0m\u001b[1;33m.\u001b[0m\u001b[0mreshape\u001b[0m\u001b[1;33m(\u001b[0m\u001b[1;36m4\u001b[0m\u001b[1;33m,\u001b[0m \u001b[1;36m3\u001b[0m\u001b[1;33m)\u001b[0m \u001b[1;31m#3*4 = 12 != 13\u001b[0m\u001b[1;33m\u001b[0m\u001b[0m\n\u001b[0m\u001b[0;32m      4\u001b[0m \u001b[1;33m\u001b[0m\u001b[0m\n\u001b[0;32m      5\u001b[0m \u001b[0mprint\u001b[0m\u001b[1;33m(\u001b[0m\u001b[0mnewarr\u001b[0m\u001b[1;33m)\u001b[0m\u001b[1;33m\u001b[0m\u001b[0m\n",
      "\u001b[1;31mValueError\u001b[0m: cannot reshape array of size 13 into shape (4,3)"
     ]
    }
   ],
   "source": [
    "\n",
    "arr = np.array([1, 2, 3, 4, 5, 6, 7, 8, 9, 10, 11, 12, 13])\n",
    "\n",
    "newarr = arr.reshape(4, 3) #3*4 = 12 != 13\n",
    "\n",
    "print(newarr)"
   ]
  },
  {
   "cell_type": "markdown",
   "metadata": {},
   "source": [
    "# OPERATOR"
   ]
  },
  {
   "cell_type": "code",
   "execution_count": 103,
   "metadata": {},
   "outputs": [
    {
     "name": "stdout",
     "output_type": "stream",
     "text": [
      "[ 2  4  6  8 10 12 14]\n"
     ]
    }
   ],
   "source": [
    "arr = np.array([1, 2, 3, 4, 5, 6, 7])\n",
    "print(arr*2)"
   ]
  },
  {
   "cell_type": "code",
   "execution_count": 104,
   "metadata": {},
   "outputs": [
    {
     "name": "stdout",
     "output_type": "stream",
     "text": [
      "[3 4 5 6 7 8 9]\n"
     ]
    }
   ],
   "source": [
    "arr = np.array([1, 2, 3, 4, 5, 6, 7])\n",
    "print(arr +2)"
   ]
  },
  {
   "cell_type": "code",
   "execution_count": 111,
   "metadata": {},
   "outputs": [
    {
     "name": "stdout",
     "output_type": "stream",
     "text": [
      "(7,) (7,)\n",
      "[ 2  9  6 10 10 14 14]\n"
     ]
    }
   ],
   "source": [
    "arr = np.array([1, 2, 3, 4, 5, 6, 7])\n",
    "arr_2 = np.array([1, 7, 3, 6, 5,8 , 7])\n",
    "print(arr.shape, arr_2.shape)\n",
    "print(arr + arr_2)\n",
    "# điều kiện cộng hai mảng là phải cùng SHAPE"
   ]
  },
  {
   "cell_type": "code",
   "execution_count": 110,
   "metadata": {},
   "outputs": [
    {
     "name": "stdout",
     "output_type": "stream",
     "text": [
      "(8,) (7,)\n"
     ]
    },
    {
     "ename": "ValueError",
     "evalue": "operands could not be broadcast together with shapes (8,) (7,) ",
     "output_type": "error",
     "traceback": [
      "\u001b[1;31m---------------------------------------------------------------------------\u001b[0m",
      "\u001b[1;31mValueError\u001b[0m                                Traceback (most recent call last)",
      "\u001b[1;32m<ipython-input-110-470bfcf62e05>\u001b[0m in \u001b[0;36m<module>\u001b[1;34m\u001b[0m\n\u001b[0;32m      3\u001b[0m \u001b[0marr_2\u001b[0m \u001b[1;33m=\u001b[0m \u001b[0mnp\u001b[0m\u001b[1;33m.\u001b[0m\u001b[0marray\u001b[0m\u001b[1;33m(\u001b[0m\u001b[1;33m[\u001b[0m\u001b[1;36m1\u001b[0m\u001b[1;33m,\u001b[0m \u001b[1;36m7\u001b[0m\u001b[1;33m,\u001b[0m \u001b[1;36m3\u001b[0m\u001b[1;33m,\u001b[0m \u001b[1;36m6\u001b[0m\u001b[1;33m,\u001b[0m \u001b[1;36m5\u001b[0m\u001b[1;33m,\u001b[0m \u001b[1;36m8\u001b[0m\u001b[1;33m,\u001b[0m \u001b[1;36m7\u001b[0m\u001b[1;33m]\u001b[0m\u001b[1;33m)\u001b[0m\u001b[1;33m\u001b[0m\u001b[0m\n\u001b[0;32m      4\u001b[0m \u001b[0mprint\u001b[0m\u001b[1;33m(\u001b[0m\u001b[0marr\u001b[0m\u001b[1;33m.\u001b[0m\u001b[0mshape\u001b[0m\u001b[1;33m,\u001b[0m \u001b[0marr_2\u001b[0m\u001b[1;33m.\u001b[0m\u001b[0mshape\u001b[0m\u001b[1;33m)\u001b[0m\u001b[1;33m\u001b[0m\u001b[0m\n\u001b[1;32m----> 5\u001b[1;33m \u001b[0mprint\u001b[0m\u001b[1;33m(\u001b[0m\u001b[0marr\u001b[0m \u001b[1;33m+\u001b[0m \u001b[0marr_2\u001b[0m\u001b[1;33m)\u001b[0m\u001b[1;33m\u001b[0m\u001b[0m\n\u001b[0m\u001b[0;32m      6\u001b[0m \u001b[1;31m# điều kiện cộng hai mảng là phải cùng SHAPE\u001b[0m\u001b[1;33m\u001b[0m\u001b[1;33m\u001b[0m\u001b[0m\n",
      "\u001b[1;31mValueError\u001b[0m: operands could not be broadcast together with shapes (8,) (7,) "
     ]
    }
   ],
   "source": [
    "# eror \n",
    "arr   = np.array([1, 2, 3, 4, 5, 6, 7, 8])\n",
    "arr_2 = np.array([1, 7, 3, 6, 5, 8, 7])\n",
    "print(arr.shape, arr_2.shape)\n",
    "print(arr + arr_2) \n",
    "# điều kiện cộng hai mảng là phải cùng SHAPE"
   ]
  },
  {
   "cell_type": "markdown",
   "metadata": {},
   "source": [
    "# RANDOM\n"
   ]
  },
  {
   "cell_type": "code",
   "execution_count": 112,
   "metadata": {},
   "outputs": [
    {
     "name": "stdout",
     "output_type": "stream",
     "text": [
      "22\n"
     ]
    }
   ],
   "source": [
    "from numpy import random\n",
    "\n",
    "x = random.randint(100)\n",
    "\n",
    "print(x)"
   ]
  },
  {
   "cell_type": "code",
   "execution_count": 113,
   "metadata": {},
   "outputs": [
    {
     "name": "stdout",
     "output_type": "stream",
     "text": [
      "[17 11 65 16 33]\n"
     ]
    }
   ],
   "source": [
    "x=random.randint(100, size=(5))\n",
    "\n",
    "print(x)"
   ]
  },
  {
   "cell_type": "code",
   "execution_count": 116,
   "metadata": {},
   "outputs": [
    {
     "name": "stdout",
     "output_type": "stream",
     "text": [
      "[[35 92 59 18 41]\n",
      " [83 97 10 86 12]\n",
      " [ 0 23 18 25 78]]\n"
     ]
    }
   ],
   "source": [
    "x = random.randint(100, size=(3, 5)) #(3, 5) là shape của mảng cần khởi tạo\n",
    "\n",
    "print(x)"
   ]
  },
  {
   "cell_type": "code",
   "execution_count": 118,
   "metadata": {},
   "outputs": [
    {
     "name": "stdout",
     "output_type": "stream",
     "text": [
      "[0.16591065 0.206218   0.33888767 0.01933034 0.92851265]\n"
     ]
    }
   ],
   "source": [
    "#khỏi tạo random mảng 5 phần tử theo phân phối chuẩn  0 < X < 1\n",
    "x = random.rand(5) \n",
    "print(x)"
   ]
  },
  {
   "cell_type": "code",
   "execution_count": 119,
   "metadata": {},
   "outputs": [
    {
     "name": "stdout",
     "output_type": "stream",
     "text": [
      "[[0.59871879 0.99368272 0.1126489  0.09840443 0.08607695]\n",
      " [0.35188951 0.13065169 0.64122768 0.73168294 0.84212046]\n",
      " [0.40225699 0.68754383 0.28805102 0.58250673 0.62452836]]\n"
     ]
    }
   ],
   "source": [
    "x = random.rand(3, 5)\n",
    "\n",
    "print(x)"
   ]
  },
  {
   "cell_type": "code",
   "execution_count": 120,
   "metadata": {},
   "outputs": [
    {
     "name": "stdout",
     "output_type": "stream",
     "text": [
      "5\n"
     ]
    }
   ],
   "source": [
    "#chọn phần tử bất kì trong mảng\n",
    "x = random.choice([3, 5, 7, 9])\n",
    "\n",
    "print(x)"
   ]
  },
  {
   "cell_type": "code",
   "execution_count": 124,
   "metadata": {},
   "outputs": [
    {
     "name": "stdout",
     "output_type": "stream",
     "text": [
      "[[5 5 3 9 5]\n",
      " [5 3 9 7 3]\n",
      " [3 3 9 3 3]]\n"
     ]
    }
   ],
   "source": [
    "#tạo mảng 2D có shape =( 3, 5) với các phần tử được chọn ngẫu nhiên trong mảng [3, 5, 7, 9]\n",
    "x = random.choice([3, 5, 7, 9], size=(3, 5))\n",
    "print(x)"
   ]
  },
  {
   "cell_type": "code",
   "execution_count": null,
   "metadata": {},
   "outputs": [],
   "source": []
  }
 ],
 "metadata": {
  "kernelspec": {
   "display_name": "Python 3",
   "language": "python",
   "name": "python3"
  },
  "language_info": {
   "codemirror_mode": {
    "name": "ipython",
    "version": 3
   },
   "file_extension": ".py",
   "mimetype": "text/x-python",
   "name": "python",
   "nbconvert_exporter": "python",
   "pygments_lexer": "ipython3",
   "version": "3.7.0"
  }
 },
 "nbformat": 4,
 "nbformat_minor": 4
}
